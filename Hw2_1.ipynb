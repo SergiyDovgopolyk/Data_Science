{
  "nbformat": 4,
  "nbformat_minor": 0,
  "metadata": {
    "colab": {
      "provenance": [],
      "toc_visible": true,
      "authorship_tag": "ABX9TyMFPoyNq1P1etz9thWxhydg",
      "include_colab_link": true
    },
    "kernelspec": {
      "name": "python3",
      "display_name": "Python 3"
    },
    "language_info": {
      "name": "python"
    }
  },
  "cells": [
    {
      "cell_type": "markdown",
      "metadata": {
        "id": "view-in-github",
        "colab_type": "text"
      },
      "source": [
        "<a href=\"https://colab.research.google.com/github/SergiyDovgopolyk/Data_Science/blob/main/Hw2_1.ipynb\" target=\"_parent\"><img src=\"https://colab.research.google.com/assets/colab-badge.svg\" alt=\"Open In Colab\"/></a>"
      ]
    },
    {
      "cell_type": "code",
      "source": [
        "import numpy as np\n",
        "import pandas as pd\n",
        "\n",
        "source = 'https://uk.wikipedia.org/wiki/%D0%9D%D0%B0%D1%81%D0%B5%D0%BB%D0%B5%D0%BD%D0%BD%D1%8F_%D0%A3%D0%BA%D1%80%D0%B0%D1%97%D0%BD%D0%B8#%D0%9D%D0%B0%D1%80%D0%BE%D0%B4%D0%B6%D1%83%D0%B2%D0%B0%D0%BD%D1%96%D1%81%D1%82%D1%8C'\n",
        "new_table = pd.read_html(source, match='Коефіцієнт народжуваності в регіонах України', thousands=\".\", decimal=\",\")[0]\n",
        "print(new_table.head())\n"
      ],
      "metadata": {
        "colab": {
          "base_uri": "https://localhost:8080/"
        },
        "id": "a6DMQ6_7gLRC",
        "outputId": "963f7e83-451e-4abc-bcd0-d0cf544b5f0d"
      },
      "execution_count": null,
      "outputs": [
        {
          "output_type": "stream",
          "name": "stdout",
          "text": [
            "             Регіон  1950  1960  1970  1990  2000  2012  2014  2019\n",
            "0              Крим  23.0  20.6  16.0  13.0   7.3  12.6     —     —\n",
            "1         Вінницька  22.4  19.2  14.2  12.4   8.4  11.2  10.9   7.6\n",
            "2         Волинська  24.7  25.0  17.9  15.3  11.2  14.8  14.1  10.1\n",
            "3  Дніпропетровська  20.4  20.4  15.1  12.3   7.1  11.2  11.1   7.1\n",
            "4          Донецька  27.1  21.4  14.0  10.9   6.1   9.8   8.2     —\n"
          ]
        }
      ]
    },
    {
      "cell_type": "code",
      "source": [
        "print(new_table.shape)"
      ],
      "metadata": {
        "colab": {
          "base_uri": "https://localhost:8080/"
        },
        "id": "ECE08RV8gSHj",
        "outputId": "688bb6dc-0812-4cc9-ed5e-f5834a28236b"
      },
      "execution_count": null,
      "outputs": [
        {
          "output_type": "stream",
          "name": "stdout",
          "text": [
            "(28, 9)\n"
          ]
        }
      ]
    },
    {
      "cell_type": "code",
      "source": [
        "import numpy as np\n",
        "\n",
        "new_table.replace(to_replace='—', value=np.nan, inplace=True)\n",
        "missing_ratios = new_table.isnull().sum() / len(new_table)\n",
        "print(new_table)\n"
      ],
      "metadata": {
        "colab": {
          "base_uri": "https://localhost:8080/"
        },
        "id": "c4UKZ593gUyI",
        "outputId": "b898c350-8b3c-4d11-c1c3-aa8c88329b72"
      },
      "execution_count": null,
      "outputs": [
        {
          "output_type": "stream",
          "name": "stdout",
          "text": [
            "               Регіон  1950  1960  1970  1990  2000  2012  2014  2019\n",
            "0                Крим  23.0  20.6  16.0  13.0   7.3  12.6   NaN   NaN\n",
            "1           Вінницька  22.4  19.2  14.2  12.4   8.4  11.2  10.9   7.6\n",
            "2           Волинська  24.7  25.0  17.9  15.3  11.2  14.8  14.1  10.1\n",
            "3    Дніпропетровська  20.4  20.4  15.1  12.3   7.1  11.2  11.1   7.1\n",
            "4            Донецька  27.1  21.4  14.0  10.9   6.1   9.8   8.2   NaN\n",
            "5         Житомирська  26.1  22.3  15.9  12.9   8.9  12.2  12.0   7.9\n",
            "6        Закарпатська  31.4  27.3  20.7  16.8  11.5  15.1  14.6  10.4\n",
            "7          Запорізька  21.9  19.7  15.0  12.4   7.1  10.6  10.6   6.8\n",
            "8   Івано-Франківська  24.3  24.8  18.2  15.5  10.3  12.4  12.2   8.8\n",
            "9            Київська  20.4  18.9  15.6  12.3   7.3  12.2  12.1   8.0\n",
            "10     Кіровоградська  21.6  17.1  14.5  12.6   7.9  11.0  10.8   6.8\n",
            "11          Луганська  26.2  23.5  14.4  11.6   6.2   9.6   5.1   NaN\n",
            "12          Львівська  23.4  24.0  17.1  14.0   9.1  11.9  11.9   8.7\n",
            "13       Миколаївська  21.1  19.4  15.5  13.7   8.0  11.5  11.2   7.1\n",
            "14            Одеська  24.1  19.2  14.8  12.6   8.0  12.7  12.3   8.8\n",
            "15         Полтавська  18.6  16.3  13.1  11.8   7.0   9.9  10.0   6.5\n",
            "16         Рівненська  26.9  26.7  19.3  15.8  11.8  15.9  14.8  10.7\n",
            "17            Сумська  21.6  18.4  13.2  11.5   7.0   9.7   9.2   6.0\n",
            "18      Тернопільська  21.3  21.6  15.7  14.2   9.2  11.3  10.9   7.6\n",
            "19         Харківська  19.7  17.3  14.0  11.4   6.8   9.9  10.1   6.8\n",
            "20         Херсонська  20.8  21.4  16.6  14.3   8.5  11.7  11.5   8.1\n",
            "21        Хмельницька  23.4  19.8  14.8  12.9   8.5  11.3  11.2   7.9\n",
            "22          Черкаська  20.5  17.9  14.4  12.3   7.5  10.0   9.8   6.4\n",
            "23        Чернівецька  24.7  21.8  17.0  14.8  10.1  12.8  12.9   9.2\n",
            "24       Чернігівська  22.0  18.3  12.7  10.8   6.9   9.4   9.0   6.1\n",
            "25               Київ   NaN  17.4  15.9  12.0   7.3  12.0  12.1  11.0\n",
            "26        Севастополь   NaN   NaN   NaN  12.5   7.0  12.0   NaN   NaN\n",
            "27            Україна  22.8  20.5  15.2  12.6   7.8  11.4  11.1   8.1\n"
          ]
        }
      ]
    },
    {
      "cell_type": "code",
      "source": [
        "print(new_table.dtypes)"
      ],
      "metadata": {
        "colab": {
          "base_uri": "https://localhost:8080/"
        },
        "id": "IQahgqJvg4pn",
        "outputId": "e5dd360b-2863-4ab6-ab68-dd8ec9b4f7d5"
      },
      "execution_count": null,
      "outputs": [
        {
          "output_type": "stream",
          "name": "stdout",
          "text": [
            "Регіон     object\n",
            "1950      float64\n",
            "1960      float64\n",
            "1970      float64\n",
            "1990      float64\n",
            "2000      float64\n",
            "2012      float64\n",
            "2014       object\n",
            "2019       object\n",
            "dtype: object\n"
          ]
        }
      ]
    },
    {
      "cell_type": "code",
      "source": [
        "new_table[[\"2014\", \"2019\"]] = new_table[[\"2014\", \"2019\"]].apply(pd.to_numeric)\n",
        "print(new_table.dtypes)"
      ],
      "metadata": {
        "colab": {
          "base_uri": "https://localhost:8080/"
        },
        "id": "mX9QKBtfg5dB",
        "outputId": "51be9062-4f92-42e8-aec0-d39ea27aa8a6"
      },
      "execution_count": null,
      "outputs": [
        {
          "output_type": "stream",
          "name": "stdout",
          "text": [
            "Регіон     object\n",
            "1950      float64\n",
            "1960      float64\n",
            "1970      float64\n",
            "1990      float64\n",
            "2000      float64\n",
            "2012      float64\n",
            "2014      float64\n",
            "2019      float64\n",
            "dtype: object\n"
          ]
        }
      ]
    },
    {
      "cell_type": "code",
      "source": [
        "# missing_ratios = new_table.isnull().mean()\n",
        "missing_ratios = new_table.isnull().sum() / len(new_table)\n",
        "\n",
        "print(missing_ratios)"
      ],
      "metadata": {
        "colab": {
          "base_uri": "https://localhost:8080/"
        },
        "id": "V6F3SC5ggZFn",
        "outputId": "3b59a773-7839-4228-9c65-35918b4fc3af"
      },
      "execution_count": null,
      "outputs": [
        {
          "output_type": "stream",
          "name": "stdout",
          "text": [
            "Регіон    0.000000\n",
            "1950      0.071429\n",
            "1960      0.035714\n",
            "1970      0.035714\n",
            "1990      0.000000\n",
            "2000      0.000000\n",
            "2012      0.000000\n",
            "2014      0.071429\n",
            "2019      0.142857\n",
            "dtype: float64\n"
          ]
        }
      ]
    },
    {
      "cell_type": "code",
      "source": [
        "new_table = new_table.iloc[:-1]\n",
        "print(new_table)"
      ],
      "metadata": {
        "colab": {
          "base_uri": "https://localhost:8080/"
        },
        "id": "YlObsLUBhCTp",
        "outputId": "a38f0fa2-27e0-4b38-d0d2-7112154f37e5"
      },
      "execution_count": null,
      "outputs": [
        {
          "output_type": "stream",
          "name": "stdout",
          "text": [
            "               Регіон  1950  1960  1970  1990  2000  2012  2014  2019\n",
            "0                Крим  23.0  20.6  16.0  13.0   7.3  12.6   NaN   NaN\n",
            "1           Вінницька  22.4  19.2  14.2  12.4   8.4  11.2  10.9   7.6\n",
            "2           Волинська  24.7  25.0  17.9  15.3  11.2  14.8  14.1  10.1\n",
            "3    Дніпропетровська  20.4  20.4  15.1  12.3   7.1  11.2  11.1   7.1\n",
            "4            Донецька  27.1  21.4  14.0  10.9   6.1   9.8   8.2   NaN\n",
            "5         Житомирська  26.1  22.3  15.9  12.9   8.9  12.2  12.0   7.9\n",
            "6        Закарпатська  31.4  27.3  20.7  16.8  11.5  15.1  14.6  10.4\n",
            "7          Запорізька  21.9  19.7  15.0  12.4   7.1  10.6  10.6   6.8\n",
            "8   Івано-Франківська  24.3  24.8  18.2  15.5  10.3  12.4  12.2   8.8\n",
            "9            Київська  20.4  18.9  15.6  12.3   7.3  12.2  12.1   8.0\n",
            "10     Кіровоградська  21.6  17.1  14.5  12.6   7.9  11.0  10.8   6.8\n",
            "11          Луганська  26.2  23.5  14.4  11.6   6.2   9.6   5.1   NaN\n",
            "12          Львівська  23.4  24.0  17.1  14.0   9.1  11.9  11.9   8.7\n",
            "13       Миколаївська  21.1  19.4  15.5  13.7   8.0  11.5  11.2   7.1\n",
            "14            Одеська  24.1  19.2  14.8  12.6   8.0  12.7  12.3   8.8\n",
            "15         Полтавська  18.6  16.3  13.1  11.8   7.0   9.9  10.0   6.5\n",
            "16         Рівненська  26.9  26.7  19.3  15.8  11.8  15.9  14.8  10.7\n",
            "17            Сумська  21.6  18.4  13.2  11.5   7.0   9.7   9.2   6.0\n",
            "18      Тернопільська  21.3  21.6  15.7  14.2   9.2  11.3  10.9   7.6\n",
            "19         Харківська  19.7  17.3  14.0  11.4   6.8   9.9  10.1   6.8\n",
            "20         Херсонська  20.8  21.4  16.6  14.3   8.5  11.7  11.5   8.1\n",
            "21        Хмельницька  23.4  19.8  14.8  12.9   8.5  11.3  11.2   7.9\n",
            "22          Черкаська  20.5  17.9  14.4  12.3   7.5  10.0   9.8   6.4\n",
            "23        Чернівецька  24.7  21.8  17.0  14.8  10.1  12.8  12.9   9.2\n",
            "24       Чернігівська  22.0  18.3  12.7  10.8   6.9   9.4   9.0   6.1\n",
            "25               Київ   NaN  17.4  15.9  12.0   7.3  12.0  12.1  11.0\n",
            "26        Севастополь   NaN   NaN   NaN  12.5   7.0  12.0   NaN   NaN\n"
          ]
        }
      ]
    },
    {
      "cell_type": "code",
      "source": [
        "new_table = new_table.fillna(new_table.mean())\n",
        "print(new_table.round(2))"
      ],
      "metadata": {
        "colab": {
          "base_uri": "https://localhost:8080/"
        },
        "id": "VusL0krUp2px",
        "outputId": "e9d83efc-7866-4677-a882-9b2a5e7741aa"
      },
      "execution_count": null,
      "outputs": [
        {
          "output_type": "stream",
          "name": "stdout",
          "text": [
            "               Регіон  1950   1960  1970  1990  2000  2012   2014   2019\n",
            "0                Крим  23.0  20.60  16.0  13.0   7.3  12.6  11.14   8.02\n",
            "1           Вінницька  22.4  19.20  14.2  12.4   8.4  11.2  10.90   7.60\n",
            "2           Волинська  24.7  25.00  17.9  15.3  11.2  14.8  14.10  10.10\n",
            "3    Дніпропетровська  20.4  20.40  15.1  12.3   7.1  11.2  11.10   7.10\n",
            "4            Донецька  27.1  21.40  14.0  10.9   6.1   9.8   8.20   8.02\n",
            "5         Житомирська  26.1  22.30  15.9  12.9   8.9  12.2  12.00   7.90\n",
            "6        Закарпатська  31.4  27.30  20.7  16.8  11.5  15.1  14.60  10.40\n",
            "7          Запорізька  21.9  19.70  15.0  12.4   7.1  10.6  10.60   6.80\n",
            "8   Івано-Франківська  24.3  24.80  18.2  15.5  10.3  12.4  12.20   8.80\n",
            "9            Київська  20.4  18.90  15.6  12.3   7.3  12.2  12.10   8.00\n",
            "10     Кіровоградська  21.6  17.10  14.5  12.6   7.9  11.0  10.80   6.80\n",
            "11          Луганська  26.2  23.50  14.4  11.6   6.2   9.6   5.10   8.02\n",
            "12          Львівська  23.4  24.00  17.1  14.0   9.1  11.9  11.90   8.70\n",
            "13       Миколаївська  21.1  19.40  15.5  13.7   8.0  11.5  11.20   7.10\n",
            "14            Одеська  24.1  19.20  14.8  12.6   8.0  12.7  12.30   8.80\n",
            "15         Полтавська  18.6  16.30  13.1  11.8   7.0   9.9  10.00   6.50\n",
            "16         Рівненська  26.9  26.70  19.3  15.8  11.8  15.9  14.80  10.70\n",
            "17            Сумська  21.6  18.40  13.2  11.5   7.0   9.7   9.20   6.00\n",
            "18      Тернопільська  21.3  21.60  15.7  14.2   9.2  11.3  10.90   7.60\n",
            "19         Харківська  19.7  17.30  14.0  11.4   6.8   9.9  10.10   6.80\n",
            "20         Херсонська  20.8  21.40  16.6  14.3   8.5  11.7  11.50   8.10\n",
            "21        Хмельницька  23.4  19.80  14.8  12.9   8.5  11.3  11.20   7.90\n",
            "22          Черкаська  20.5  17.90  14.4  12.3   7.5  10.0   9.80   6.40\n",
            "23        Чернівецька  24.7  21.80  17.0  14.8  10.1  12.8  12.90   9.20\n",
            "24       Чернігівська  22.0  18.30  12.7  10.8   6.9   9.4   9.00   6.10\n",
            "25               Київ  23.1  17.40  15.9  12.0   7.3  12.0  12.10  11.00\n",
            "26        Севастополь  23.1  20.76  15.6  12.5   7.0  12.0  11.14   8.02\n"
          ]
        },
        {
          "output_type": "stream",
          "name": "stderr",
          "text": [
            "<ipython-input-30-491b0dfc6565>:1: FutureWarning: The default value of numeric_only in DataFrame.mean is deprecated. In a future version, it will default to False. In addition, specifying 'numeric_only=None' is deprecated. Select only valid columns or specify the value of numeric_only to silence this warning.\n",
            "  new_table = new_table.fillna(new_table.mean())\n"
          ]
        }
      ]
    },
    {
      "cell_type": "code",
      "source": [
        "average_value = new_table['2019'].mean()\n",
        "\n",
        "district_list = []\n",
        "for index, value in new_table['2019'].items():\n",
        "    if value > average_value:\n",
        "        district_list.append(new_table.at[index, 'Регіон'])\n",
        "\n",
        "print(district_list)"
      ],
      "metadata": {
        "colab": {
          "base_uri": "https://localhost:8080/"
        },
        "id": "FqlvA3MpuNSn",
        "outputId": "6a99b0a5-72d2-4212-a741-3813245c2f79"
      },
      "execution_count": null,
      "outputs": [
        {
          "output_type": "stream",
          "name": "stdout",
          "text": [
            "['Волинська', 'Закарпатська', 'Івано-Франківська', 'Львівська', 'Одеська', 'Рівненська', 'Херсонська', 'Чернівецька', 'Київ']\n"
          ]
        }
      ]
    },
    {
      "cell_type": "code",
      "source": [
        "max_val = new_table['2014'].max()\n",
        "\n",
        "\n",
        "# Finding the index of the max value\n",
        "index = new_table['2014'].idxmax()\n",
        "\n",
        "print(new_table.at[index, 'Регіон'], '-', max_val)"
      ],
      "metadata": {
        "id": "8z8uKes9R-l9",
        "colab": {
          "base_uri": "https://localhost:8080/"
        },
        "outputId": "e78d1c6c-b25f-4989-f444-4daccccc39c2"
      },
      "execution_count": 38,
      "outputs": [
        {
          "output_type": "stream",
          "name": "stdout",
          "text": [
            "Рівненська - 14.8\n"
          ]
        }
      ]
    },
    {
      "cell_type": "code",
      "source": [
        "import matplotlib.pyplot as plt\n",
        "\n",
        "plt.style.use('ggplot')\n",
        "\n",
        "# new_table.set_index('Регіон', inplace=True)\n",
        "\n",
        "new_table['2019'].plot(kind='bar')\n",
        "\n",
        "plt.title('Bar Plot of 2019 Data by Region')\n",
        "plt.xlabel('Region')\n",
        "plt.ylabel('Value')\n",
        "\n",
        "plt.xticks(rotation=90, ha='right')\n",
        "\n",
        "plt.show()"
      ],
      "metadata": {
        "colab": {
          "base_uri": "https://localhost:8080/",
          "height": 598
        },
        "id": "Sv5Z2adxihbc",
        "outputId": "dc62e53a-e046-43ea-c9f8-f0b4b9ff06aa"
      },
      "execution_count": 49,
      "outputs": [
        {
          "output_type": "display_data",
          "data": {
            "text/plain": [
              "<Figure size 640x480 with 1 Axes>"
            ],
            "image/png": "[encoded data removed]"
          },
          "metadata": {}
        }
      ]
    }
  ]
}