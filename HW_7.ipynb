{
  "nbformat": 4,
  "nbformat_minor": 0,
  "metadata": {
    "colab": {
      "provenance": [],
      "authorship_tag": "ABX9TyP9kDSUm2mE6drycUXvYLvh",
      "include_colab_link": true
    },
    "kernelspec": {
      "name": "python3",
      "display_name": "Python 3"
    },
    "language_info": {
      "name": "python"
    }
  },
  "cells": [
    {
      "cell_type": "markdown",
      "metadata": {
        "id": "view-in-github",
        "colab_type": "text"
      },
      "source": [
        "<a href=\"https://colab.research.google.com/github/SergiyDovgopolyk/Data_Science/blob/main/HW_7.ipynb\" target=\"_parent\"><img src=\"https://colab.research.google.com/assets/colab-badge.svg\" alt=\"Open In Colab\"/></a>"
      ]
    },
    {
      "cell_type": "code",
      "execution_count": 2,
      "metadata": {
        "colab": {
          "base_uri": "https://localhost:8080/"
        },
        "id": "RnR8qyDmOoQw",
        "outputId": "88df65d9-6230-4de7-bc09-59f2fe27bcf0"
      },
      "outputs": [
        {
          "output_type": "stream",
          "name": "stdout",
          "text": [
            "Collecting scikit-surprise\n",
            "  Downloading scikit-surprise-1.1.3.tar.gz (771 kB)\n",
            "\u001b[2K     \u001b[90m━━━━━━━━━━━━━━━━━━━━━━━━━━━━━━━━━━━━━━━━\u001b[0m \u001b[32m772.0/772.0 kB\u001b[0m \u001b[31m10.0 MB/s\u001b[0m eta \u001b[36m0:00:00\u001b[0m\n",
            "\u001b[?25h  Preparing metadata (setup.py) ... \u001b[?25l\u001b[?25hdone\n",
            "Requirement already satisfied: joblib>=1.0.0 in /usr/local/lib/python3.10/dist-packages (from scikit-surprise) (1.4.0)\n",
            "Requirement already satisfied: numpy>=1.17.3 in /usr/local/lib/python3.10/dist-packages (from scikit-surprise) (1.25.2)\n",
            "Requirement already satisfied: scipy>=1.3.2 in /usr/local/lib/python3.10/dist-packages (from scikit-surprise) (1.11.4)\n",
            "Building wheels for collected packages: scikit-surprise\n",
            "  Building wheel for scikit-surprise (setup.py) ... \u001b[?25l\u001b[?25hdone\n",
            "  Created wheel for scikit-surprise: filename=scikit_surprise-1.1.3-cp310-cp310-linux_x86_64.whl size=3162994 sha256=9119ab22f8a34e70ecd35041947ea74af033c7f1ef7e90f7091f2819cc1d0103\n",
            "  Stored in directory: /root/.cache/pip/wheels/a5/ca/a8/4e28def53797fdc4363ca4af740db15a9c2f1595ebc51fb445\n",
            "Successfully built scikit-surprise\n",
            "Installing collected packages: scikit-surprise\n",
            "Successfully installed scikit-surprise-1.1.3\n",
            "Collecting sigopt\n",
            "  Downloading sigopt-8.8.2-py2.py3-none-any.whl (198 kB)\n",
            "\u001b[2K     \u001b[90m━━━━━━━━━━━━━━━━━━━━━━━━━━━━━━━━━━━━━━━━\u001b[0m \u001b[32m198.8/198.8 kB\u001b[0m \u001b[31m4.3 MB/s\u001b[0m eta \u001b[36m0:00:00\u001b[0m\n",
            "\u001b[?25hCollecting backoff<2.0.0,>=1.10.0 (from sigopt)\n",
            "  Downloading backoff-1.11.1-py2.py3-none-any.whl (13 kB)\n",
            "Requirement already satisfied: click>=8.0.0 in /usr/local/lib/python3.10/dist-packages (from sigopt) (8.1.7)\n",
            "Collecting GitPython>=2.0.0 (from sigopt)\n",
            "  Downloading GitPython-3.1.43-py3-none-any.whl (207 kB)\n",
            "\u001b[2K     \u001b[90m━━━━━━━━━━━━━━━━━━━━━━━━━━━━━━━━━━━━━━━━\u001b[0m \u001b[32m207.3/207.3 kB\u001b[0m \u001b[31m23.6 MB/s\u001b[0m eta \u001b[36m0:00:00\u001b[0m\n",
            "\u001b[?25hRequirement already satisfied: packaging>=21.3 in /usr/local/lib/python3.10/dist-packages (from sigopt) (24.0)\n",
            "Collecting pypng>=0.0.20 (from sigopt)\n",
            "  Downloading pypng-0.20220715.0-py3-none-any.whl (58 kB)\n",
            "\u001b[2K     \u001b[90m━━━━━━━━━━━━━━━━━━━━━━━━━━━━━━━━━━━━━━━━\u001b[0m \u001b[32m58.1/58.1 kB\u001b[0m \u001b[31m6.1 MB/s\u001b[0m eta \u001b[36m0:00:00\u001b[0m\n",
            "\u001b[?25hRequirement already satisfied: PyYAML<7,>=5 in /usr/local/lib/python3.10/dist-packages (from sigopt) (6.0.1)\n",
            "Requirement already satisfied: requests<3.0.0,>=2.25.0 in /usr/local/lib/python3.10/dist-packages (from sigopt) (2.31.0)\n",
            "Collecting urllib3<2.0.0,>=1.26.5 (from sigopt)\n",
            "  Downloading urllib3-1.26.18-py2.py3-none-any.whl (143 kB)\n",
            "\u001b[2K     \u001b[90m━━━━━━━━━━━━━━━━━━━━━━━━━━━━━━━━━━━━━━━━\u001b[0m \u001b[32m143.8/143.8 kB\u001b[0m \u001b[31m17.4 MB/s\u001b[0m eta \u001b[36m0:00:00\u001b[0m\n",
            "\u001b[?25hCollecting gitdb<5,>=4.0.1 (from GitPython>=2.0.0->sigopt)\n",
            "  Downloading gitdb-4.0.11-py3-none-any.whl (62 kB)\n",
            "\u001b[2K     \u001b[90m━━━━━━━━━━━━━━━━━━━━━━━━━━━━━━━━━━━━━━━━\u001b[0m \u001b[32m62.7/62.7 kB\u001b[0m \u001b[31m7.9 MB/s\u001b[0m eta \u001b[36m0:00:00\u001b[0m\n",
            "\u001b[?25hRequirement already satisfied: charset-normalizer<4,>=2 in /usr/local/lib/python3.10/dist-packages (from requests<3.0.0,>=2.25.0->sigopt) (3.3.2)\n",
            "Requirement already satisfied: idna<4,>=2.5 in /usr/local/lib/python3.10/dist-packages (from requests<3.0.0,>=2.25.0->sigopt) (3.7)\n",
            "Requirement already satisfied: certifi>=2017.4.17 in /usr/local/lib/python3.10/dist-packages (from requests<3.0.0,>=2.25.0->sigopt) (2024.2.2)\n",
            "Collecting smmap<6,>=3.0.1 (from gitdb<5,>=4.0.1->GitPython>=2.0.0->sigopt)\n",
            "  Downloading smmap-5.0.1-py3-none-any.whl (24 kB)\n",
            "Installing collected packages: pypng, urllib3, smmap, backoff, gitdb, GitPython, sigopt\n",
            "  Attempting uninstall: urllib3\n",
            "    Found existing installation: urllib3 2.0.7\n",
            "    Uninstalling urllib3-2.0.7:\n",
            "      Successfully uninstalled urllib3-2.0.7\n",
            "Successfully installed GitPython-3.1.43 backoff-1.11.1 gitdb-4.0.11 pypng-0.20220715.0 sigopt-8.8.2 smmap-5.0.1 urllib3-1.26.18\n"
          ]
        }
      ],
      "source": [
        "!pip install scikit-surprise\n",
        "!pip install --upgrade sigopt\n",
        "# !conda install -y -c conda-forge scikit-surprise # If you use conda on a non-Colab environment\n",
        "\n",
        "from surprise import SVD, SVDpp, NMF\n",
        "from surprise import Dataset\n",
        "from surprise.model_selection import cross_validate\n",
        "from surprise.model_selection import train_test_split\n",
        "from surprise import accuracy\n",
        "from surprise.model_selection import GridSearchCV"
      ]
    },
    {
      "cell_type": "code",
      "source": [
        "# Load the movielens-100k dataset (download it if needed),\n",
        "data = Dataset.load_builtin(name='ml-100k', prompt=False)\n",
        "\n",
        "# Run 5-fold cross-validation and print results\n",
        "cross_validate(SVD(), data, measures=['RMSE', 'MAE'], cv=5, verbose=True)\n",
        "\n",
        "# sample random trainset and testset\n",
        "# test set is made of 25% of the ratings.\n",
        "trainset, testset = train_test_split(data, test_size=.25)\n",
        "\n",
        "# We'll use the famous SVD algorithm.\n",
        "algo = SVD()"
      ],
      "metadata": {
        "colab": {
          "base_uri": "https://localhost:8080/"
        },
        "id": "qSYmfshhRjyB",
        "outputId": "eb7499db-6237-4392-9f38-0cc1cae74ca0"
      },
      "execution_count": 3,
      "outputs": [
        {
          "output_type": "stream",
          "name": "stdout",
          "text": [
            "Trying to download dataset from https://files.grouplens.org/datasets/movielens/ml-100k.zip...\n",
            "Done! Dataset ml-100k has been saved to /root/.surprise_data/ml-100k\n",
            "Evaluating RMSE, MAE of algorithm SVD on 5 split(s).\n",
            "\n",
            "                  Fold 1  Fold 2  Fold 3  Fold 4  Fold 5  Mean    Std     \n",
            "RMSE (testset)    0.9305  0.9325  0.9466  0.9346  0.9326  0.9354  0.0058  \n",
            "MAE (testset)     0.7348  0.7351  0.7471  0.7374  0.7352  0.7379  0.0047  \n",
            "Fit time          1.34    1.67    1.32    1.31    1.91    1.51    0.24    \n",
            "Test time         0.15    0.20    0.11    0.19    0.19    0.17    0.03    \n"
          ]
        }
      ]
    },
    {
      "cell_type": "code",
      "source": [
        "# Train the algorithm on the trainset, and predict ratings for the testset\n",
        "algo.fit(trainset)\n",
        "predictions = algo.test(testset)\n",
        "\n",
        "# Then compute RMSE\n",
        "rmse = accuracy.rmse(predictions)\n",
        "print(f'RMSE: {rmse}')\n",
        "\n",
        "# GridSearchCV for parameter tuning\n",
        "param_grid = {'n_epochs': [5, 10], 'lr_all': [0.002, 0.005], 'reg_all': [0.4, 0.6]}\n",
        "gs = GridSearchCV(SVD, param_grid, measures=['rmse', 'mae'], cv=3)\n",
        "gs.fit(data)\n",
        "\n",
        "# best RMSE score\n",
        "print(f'Best RMSE score: {gs.best_score[\"rmse\"]}')\n",
        "\n",
        "# combination of parameters that gave the best RMSE score\n",
        "print(f'Best parameters: {gs.best_params[\"rmse\"]}')"
      ],
      "metadata": {
        "colab": {
          "base_uri": "https://localhost:8080/"
        },
        "id": "dhB_1LeURpWW",
        "outputId": "016283b7-4647-4ca1-9fa0-e50615e7da96"
      },
      "execution_count": 4,
      "outputs": [
        {
          "output_type": "stream",
          "name": "stdout",
          "text": [
            "RMSE: 0.9458\n",
            "RMSE: 0.9458040297406487\n",
            "Best RMSE score: 0.9642034368426714\n",
            "Best parameters: {'n_epochs': 10, 'lr_all': 0.005, 'reg_all': 0.4}\n"
          ]
        }
      ]
    },
    {
      "cell_type": "code",
      "source": [
        "algoNMF = NMF()"
      ],
      "metadata": {
        "colab": {
          "base_uri": "https://localhost:8080/"
        },
        "id": "ZrsaiUlxRpoK",
        "outputId": "b3b02769-bff4-4cfb-f1ce-350f450b7db2"
      },
      "execution_count": 5,
      "outputs": [
        {
          "output_type": "execute_result",
          "data": {
            "text/plain": [
              "<surprise.prediction_algorithms.matrix_factorization.NMF at 0x7d724c16e4a0>"
            ]
          },
          "metadata": {},
          "execution_count": 5
        }
      ]
    },
    {
      "cell_type": "code",
      "source": [
        "# Train the algorithm on the trainset, and predict ratings for the testset\n",
        "algoNMF.fit(trainset)\n",
        "predictions = algoNMF.test(testset)\n",
        "\n",
        "# Then compute RMSE\n",
        "rmse = accuracy.rmse(predictions)\n",
        "print(f'RMSE: {rmse}')\n",
        "\n",
        "# GridSearchCV for parameter tuning\n",
        "param_grid = {'n_epochs': [5, 10], 'lr_bu': [0.002, 0.005], 'lr_bi': [0.002, 0.005], 'reg_pu': [0.4, 0.6], 'reg_qi': [0.4, 0.6]}\n",
        "gs_nmf = GridSearchCV(NMF, param_grid, measures=['rmse', 'mae'], cv=3)\n",
        "gs_nmf.fit(data)\n",
        "\n",
        "# best RMSE score\n",
        "print(f'Best RMSE score: {gs_nmf.best_score[\"rmse\"]}')\n",
        "\n",
        "# combination of parameters that gave the best RMSE score\n",
        "print(f'Best parameters: {gs_nmf.best_params[\"rmse\"]}')"
      ],
      "metadata": {
        "colab": {
          "base_uri": "https://localhost:8080/"
        },
        "id": "i9RiQYLlLCHb",
        "outputId": "feb742a6-af3f-4fb4-8b0e-0e5896b31440"
      },
      "execution_count": 12,
      "outputs": [
        {
          "output_type": "stream",
          "name": "stdout",
          "text": [
            "RMSE: 0.9724\n",
            "RMSE: 0.9724411960708049\n",
            "Best RMSE score: 1.0301468388825379\n",
            "Best parameters: {'n_epochs': 10, 'lr_bu': 0.002, 'lr_bi': 0.005, 'reg_pu': 0.4, 'reg_qi': 0.4}\n"
          ]
        }
      ]
    },
    {
      "cell_type": "code",
      "source": [
        "algoSVDpp = SVDpp()"
      ],
      "metadata": {
        "id": "dqgsQn7eO57y"
      },
      "execution_count": 14,
      "outputs": []
    },
    {
      "cell_type": "code",
      "source": [
        "# Train the algorithm on the trainset, and predict ratings for the testset\n",
        "algoSVDpp.fit(trainset)\n",
        "predictions = algoSVDpp.test(testset)\n",
        "\n",
        "# Then compute RMSE\n",
        "rmse = accuracy.rmse(predictions)\n",
        "print(f'RMSE: {rmse}')\n",
        "\n",
        "# GridSearchCV for parameter tuning\n",
        "param_grid = {'n_epochs': [5, 10], 'lr_all': [0.002, 0.005], 'reg_all': [0.4, 0.6]}\n",
        "gs = GridSearchCV(SVDpp, param_grid, measures=['rmse', 'mae'], cv=3)\n",
        "gs.fit(data)\n",
        "\n",
        "# best RMSE score\n",
        "print(f'Best RMSE score: {gs.best_score[\"rmse\"]}')\n",
        "\n",
        "# combination of parameters that gave the best RMSE score\n",
        "print(f'Best parameters: {gs.best_params[\"rmse\"]}')"
      ],
      "metadata": {
        "colab": {
          "base_uri": "https://localhost:8080/"
        },
        "id": "4o8_3hXGNKzM",
        "outputId": "0f27a7aa-18a0-41b3-af23-2d92fbb6798d"
      },
      "execution_count": 15,
      "outputs": [
        {
          "output_type": "stream",
          "name": "stdout",
          "text": [
            "RMSE: 0.9287\n",
            "RMSE: 0.9287240383635444\n",
            "Best RMSE score: 0.9636321875850925\n",
            "Best parameters: {'n_epochs': 10, 'lr_all': 0.005, 'reg_all': 0.4}\n"
          ]
        }
      ]
    }
  ]
}