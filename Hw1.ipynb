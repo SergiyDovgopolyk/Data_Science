{
 "cells": [
  {
   "cell_type": "code",
   "execution_count": 1,
   "id": "a3c181e0-bf89-4f40-ae9d-2832d6a002ba",
   "metadata": {},
   "outputs": [
    {
     "name": "stdout",
     "output_type": "stream",
     "text": [
      "[ 1.  2.  3.  4.  5.  6.  7.  8.  9. 10.]\n",
      "[ 1  2  3  4  5  6  7  8  9 10]\n"
     ]
    }
   ],
   "source": [
    "# 1\n",
    "import numpy as np\n",
    "n = np.arange(1, 11)\n",
    "m = np.linspace(1, 10, num=10)\n",
    "print(m, n, sep='\\n')"
   ]
  },
  {
   "cell_type": "code",
   "execution_count": 2,
   "id": "ee382d03-ba54-4636-bab1-f81c35465894",
   "metadata": {},
   "outputs": [
    {
     "name": "stdout",
     "output_type": "stream",
     "text": [
      "[[0. 0. 0.]\n",
      " [0. 0. 0.]\n",
      " [0. 0. 0.]]\n"
     ]
    }
   ],
   "source": [
    "# 2\n",
    "m = np.zeros((3, 3))\n",
    "print(m)"
   ]
  },
  {
   "cell_type": "code",
   "execution_count": 3,
   "id": "5758c044-d1d6-4819-aa51-a8a7776c126e",
   "metadata": {},
   "outputs": [
    {
     "name": "stdout",
     "output_type": "stream",
     "text": [
      "[[8 7 5 3 1]\n",
      " [6 6 9 7 1]\n",
      " [4 1 7 7 1]\n",
      " [3 2 6 1 6]\n",
      " [4 8 2 6 9]]\n"
     ]
    }
   ],
   "source": [
    "# 3\n",
    "b = np.random.randint(1, 10, (5, 5))\n",
    "print(b)"
   ]
  },
  {
   "cell_type": "code",
   "execution_count": 4,
   "id": "2709c53c-b194-4a6c-9b40-41053a4e9f33",
   "metadata": {},
   "outputs": [
    {
     "name": "stdout",
     "output_type": "stream",
     "text": [
      "[[0.55051049 0.82682821 0.3916079  0.00153981]\n",
      " [0.11024193 0.48982255 0.09686976 0.02966943]\n",
      " [0.24466797 0.21439817 0.0971667  0.91538595]\n",
      " [0.58626609 0.13213075 0.9668377  0.89043047]]\n"
     ]
    }
   ],
   "source": [
    "# 4\n",
    "b = np.random.random((4, 4))\n",
    "print(b)"
   ]
  },
  {
   "cell_type": "code",
   "execution_count": 5,
   "id": "45ecbad2-dc76-4055-bb60-90ec9c18f9e5",
   "metadata": {},
   "outputs": [
    {
     "name": "stdout",
     "output_type": "stream",
     "text": [
      "Array a: [8 8 1 3 9]\n",
      "Array b: [3 5 3 4 4]\n",
      "Sum of arrays: [11 13  4  7 13], \n",
      "Difference of arrays: [ 5  3 -2 -1  5], \n",
      "Product of arrays: [24 40  3 12 36]\n"
     ]
    }
   ],
   "source": [
    "# 5\n",
    "a = np.random.randint(1, 10, 5)\n",
    "b = np.random.randint(1, 10, 5)\n",
    "print(f\"Array a: {a}\\nArray b: {b}\")\n",
    "print(f\"Sum of arrays: {a + b}, \\nDifference of arrays: {a - b}, \\nProduct of arrays: {a * b}\", sep='\\n')"
   ]
  },
  {
   "cell_type": "code",
   "execution_count": 6,
   "id": "ba629967-422e-448c-a31b-fdaebe1726e7",
   "metadata": {},
   "outputs": [
    {
     "name": "stdout",
     "output_type": "stream",
     "text": [
      "Array a: [0.85825095 0.86302971 0.33101373 0.02572712 0.80620612 0.14681086\n",
      " 0.43592753]\n",
      "Array b: [0.00493116 0.39756326 0.12267948 0.17822827 0.90530446 0.61472913\n",
      " 0.90437121]\n",
      "Scalar product: 1.606886193067702\n"
     ]
    }
   ],
   "source": [
    "# 6\n",
    "a = np.random.random(7)\n",
    "b = np.random.random(7)\n",
    "print(f\"Array a: {a}\\nArray b: {b}\")\n",
    "print(f\"Scalar product: {np.dot(a, b)}\")"
   ]
  },
  {
   "cell_type": "code",
   "execution_count": 7,
   "id": "f495c67a-674e-499a-a213-1c26896ee7f2",
   "metadata": {},
   "outputs": [
    {
     "name": "stdout",
     "output_type": "stream",
     "text": [
      "Matrix a: \n",
      "[[4 5]\n",
      " [5 7]]\n",
      "Matrix b: \n",
      "[[9 2 3]\n",
      " [5 4 9]]\n",
      "\n",
      "Multiply matrices: \n",
      "[[61 28 57]\n",
      " [80 38 78]]\n"
     ]
    }
   ],
   "source": [
    "#7\n",
    "a = np.random.randint(1, 10, (2, 2))\n",
    "b = np.random.randint(1, 10, (2, 3))\n",
    "print(f\"Matrix a: \\n{a}\\nMatrix b: \\n{b}\")\n",
    "print(f\"\\nMultiply matrices: \\n{np.dot(a, b)}\")"
   ]
  },
  {
   "cell_type": "code",
   "execution_count": 14,
   "id": "749faa91-4e6e-41da-b164-6ec867f35ac0",
   "metadata": {},
   "outputs": [
    {
     "name": "stdout",
     "output_type": "stream",
     "text": [
      "Matrix a: \n",
      "[[9 9 1]\n",
      " [2 3 9]\n",
      " [2 8 5]]\n",
      "Inverse matrix: \n",
      "[[ 0.13225058  0.08584687 -0.18097448]\n",
      " [-0.01856148 -0.09976798  0.18329466]\n",
      " [-0.02320186  0.12529002 -0.02088167]]\n"
     ]
    }
   ],
   "source": [
    "# 8\n",
    "a = np.random.randint(1, 10, (3, 3))\n",
    "print(f'Matrix a: \\n{a}')\n",
    "print(f'Inverse matrix: \\n{np.linalg.inv(a)}')"
   ]
  },
  {
   "cell_type": "code",
   "execution_count": 15,
   "id": "7c561842-b983-41bf-a371-a1df4b4a01cc",
   "metadata": {},
   "outputs": [
    {
     "name": "stdout",
     "output_type": "stream",
     "text": [
      "Matrix a: \n",
      "[[0.90354855 0.04088244 0.66444907 0.28195561]\n",
      " [0.37075296 0.16179149 0.85789697 0.92168976]\n",
      " [0.13175383 0.23515772 0.56424899 0.49767591]\n",
      " [0.5096188  0.16770892 0.65617519 0.63727963]]\n",
      "Transposed matrix: \n",
      "[[0.90354855 0.37075296 0.13175383 0.5096188 ]\n",
      " [0.04088244 0.16179149 0.23515772 0.16770892]\n",
      " [0.66444907 0.85789697 0.56424899 0.65617519]\n",
      " [0.28195561 0.92168976 0.49767591 0.63727963]]\n"
     ]
    }
   ],
   "source": [
    "# 9\n",
    "a = np.random.random((4, 4))\n",
    "print(f'Matrix a: \\n{a}')\n",
    "print(f'Transposed matrix: \\n{a.T}')"
   ]
  },
  {
   "cell_type": "code",
   "execution_count": null,
   "id": "10518e86-5c3b-4e57-af3f-94a5f7363107",
   "metadata": {},
   "outputs": [],
   "source": [
    "# 10\n"
   ]
  }
 ],
 "metadata": {
  "kernelspec": {
   "display_name": "Python 3 (ipykernel)",
   "language": "python",
   "name": "python3"
  },
  "language_info": {
   "codemirror_mode": {
    "name": "ipython",
    "version": 3
   },
   "file_extension": ".py",
   "mimetype": "text/x-python",
   "name": "python",
   "nbconvert_exporter": "python",
   "pygments_lexer": "ipython3",
   "version": "3.11.5"
  }
 },
 "nbformat": 4,
 "nbformat_minor": 5
}
