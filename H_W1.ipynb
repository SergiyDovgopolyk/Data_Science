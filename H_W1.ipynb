{
 "cells": [
  {
   "cell_type": "code",
   "execution_count": 32,
   "id": "a3c181e0-bf89-4f40-ae9d-2832d6a002ba",
   "metadata": {},
   "outputs": [
    {
     "name": "stdout",
     "output_type": "stream",
     "text": [
      "[ 1  2  3  4  5  6  7  8  9 10]\n",
      "[ 1  2  3  4  5  6  7  8  9 10]\n"
     ]
    }
   ],
   "source": [
    "# 1\n",
    "import numpy as np\n",
    "n = np.arange(1, 11)\n",
    "m = np.linspace(1, 10, num=10, dtype=int)\n",
    "print(m, n, sep='\\n')"
   ]
  },
  {
   "cell_type": "code",
   "execution_count": 33,
   "id": "ee382d03-ba54-4636-bab1-f81c35465894",
   "metadata": {},
   "outputs": [
    {
     "name": "stdout",
     "output_type": "stream",
     "text": [
      "[[0 0 0]\n",
      " [0 0 0]\n",
      " [0 0 0]]\n"
     ]
    }
   ],
   "source": [
    "# 2\n",
    "m = np.zeros((3, 3), dtype=int)\n",
    "print(m)"
   ]
  },
  {
   "cell_type": "code",
   "execution_count": 3,
   "id": "5758c044-d1d6-4819-aa51-a8a7776c126e",
   "metadata": {},
   "outputs": [
    {
     "name": "stdout",
     "output_type": "stream",
     "text": [
      "[[8 7 5 3 1]\n",
      " [6 6 9 7 1]\n",
      " [4 1 7 7 1]\n",
      " [3 2 6 1 6]\n",
      " [4 8 2 6 9]]\n"
     ]
    }
   ],
   "source": [
    "# 3\n",
    "b = np.random.randint(1, 10, (5, 5), dtype=int)\n",
    "print(b)"
   ]
  },
  {
   "cell_type": "code",
   "execution_count": 4,
   "id": "2709c53c-b194-4a6c-9b40-41053a4e9f33",
   "metadata": {},
   "outputs": [
    {
     "name": "stdout",
     "output_type": "stream",
     "text": [
      "[[0.55051049 0.82682821 0.3916079  0.00153981]\n",
      " [0.11024193 0.48982255 0.09686976 0.02966943]\n",
      " [0.24466797 0.21439817 0.0971667  0.91538595]\n",
      " [0.58626609 0.13213075 0.9668377  0.89043047]]\n"
     ]
    }
   ],
   "source": [
    "# 4\n",
    "b = np.random.random((4, 4))\n",
    "print(b)"
   ]
  },
  {
   "cell_type": "code",
   "execution_count": 34,
   "id": "45ecbad2-dc76-4055-bb60-90ec9c18f9e5",
   "metadata": {},
   "outputs": [
    {
     "name": "stdout",
     "output_type": "stream",
     "text": [
      "Array a: [1 8 5 9 8]\n",
      "Array b: [5 9 6 2 8]\n",
      "Sum of arrays: [ 6 17 11 11 16], \n",
      "Difference of arrays: [-4 -1 -1  7  0], \n",
      "Product of arrays: [ 5 72 30 18 64]\n"
     ]
    }
   ],
   "source": [
    "# 5\n",
    "a = np.random.randint(1, 10, 5, dtype=int)\n",
    "b = np.random.randint(1, 10, 5, dtype=int)\n",
    "print(f\"Array a: {a}\\nArray b: {b}\")\n",
    "print(f\"Sum of arrays: {a + b}, \\nDifference of arrays: {a - b}, \\nProduct of arrays: {a * b}\", sep='\\n')"
   ]
  },
  {
   "cell_type": "code",
   "execution_count": 6,
   "id": "ba629967-422e-448c-a31b-fdaebe1726e7",
   "metadata": {},
   "outputs": [
    {
     "name": "stdout",
     "output_type": "stream",
     "text": [
      "Array a: [0.85825095 0.86302971 0.33101373 0.02572712 0.80620612 0.14681086\n",
      " 0.43592753]\n",
      "Array b: [0.00493116 0.39756326 0.12267948 0.17822827 0.90530446 0.61472913\n",
      " 0.90437121]\n",
      "Scalar product: 1.606886193067702\n"
     ]
    }
   ],
   "source": [
    "# 6\n",
    "a = np.random.random(7)\n",
    "b = np.random.random(7)\n",
    "print(f\"Array a: {a}\\nArray b: {b}\")\n",
    "print(f\"Scalar product: {np.dot(a, b)}\")"
   ]
  },
  {
   "cell_type": "code",
   "execution_count": 30,
   "id": "f495c67a-674e-499a-a213-1c26896ee7f2",
   "metadata": {},
   "outputs": [
    {
     "name": "stdout",
     "output_type": "stream",
     "text": [
      "Matrix a: \n",
      "[[3 6]\n",
      " [7 4]]\n",
      "Matrix b: \n",
      "[[7 6 6]\n",
      " [6 4 3]]\n",
      "\n",
      "Multiply matrices: \n",
      "[[57 42 36]\n",
      " [73 58 54]]\n"
     ]
    }
   ],
   "source": [
    "#7\n",
    "a = np.random.randint(1, 10, (2, 2), dtype=int)\n",
    "b = np.random.randint(1, 10, (2, 3), dtype=int)\n",
    "print(f\"Matrix a: \\n{a}\\nMatrix b: \\n{b}\")\n",
    "print(f\"\\nMultiply matrices: \\n{np.dot(a, b)}\")"
   ]
  },
  {
   "cell_type": "code",
   "execution_count": 29,
   "id": "749faa91-4e6e-41da-b164-6ec867f35ac0",
   "metadata": {},
   "outputs": [
    {
     "name": "stdout",
     "output_type": "stream",
     "text": [
      "Matrix a: \n",
      "[[1 2 6]\n",
      " [8 2 7]\n",
      " [8 1 8]]\n",
      "Inverse matrix: \n",
      "[[-0.16363636  0.18181818 -0.03636364]\n",
      " [ 0.14545455  0.72727273 -0.74545455]\n",
      " [ 0.14545455 -0.27272727  0.25454545]]\n"
     ]
    }
   ],
   "source": [
    "# 8\n",
    "a = np.random.randint(1, 10, (3, 3), dtype=int)\n",
    "print(f'Matrix a: \\n{a}')\n",
    "print(f'Inverse matrix: \\n{np.linalg.inv(a)}')"
   ]
  },
  {
   "cell_type": "code",
   "execution_count": 15,
   "id": "7c561842-b983-41bf-a371-a1df4b4a01cc",
   "metadata": {},
   "outputs": [
    {
     "name": "stdout",
     "output_type": "stream",
     "text": [
      "Matrix a: \n",
      "[[0.90354855 0.04088244 0.66444907 0.28195561]\n",
      " [0.37075296 0.16179149 0.85789697 0.92168976]\n",
      " [0.13175383 0.23515772 0.56424899 0.49767591]\n",
      " [0.5096188  0.16770892 0.65617519 0.63727963]]\n",
      "Transposed matrix: \n",
      "[[0.90354855 0.37075296 0.13175383 0.5096188 ]\n",
      " [0.04088244 0.16179149 0.23515772 0.16770892]\n",
      " [0.66444907 0.85789697 0.56424899 0.65617519]\n",
      " [0.28195561 0.92168976 0.49767591 0.63727963]]\n"
     ]
    }
   ],
   "source": [
    "# 9\n",
    "a = np.random.random((4, 4))\n",
    "print(f'Matrix a: \\n{a}')\n",
    "print(f'Transposed matrix: \\n{a.T}')"
   ]
  },
  {
   "cell_type": "code",
   "execution_count": 28,
   "id": "10518e86-5c3b-4e57-af3f-94a5f7363107",
   "metadata": {},
   "outputs": [
    {
     "name": "stdout",
     "output_type": "stream",
     "text": [
      "Matrix: \n",
      "[[3 5 5 8]\n",
      " [5 2 9 5]\n",
      " [8 7 1 8]], \n",
      "Vector: [1 3 8 1]\n",
      "\n",
      "Multiply matrix and vector: \n",
      "[66 88 45]\n"
     ]
    }
   ],
   "source": [
    "# 10\n",
    "a = np.random.randint(1, 10, (3, 4), dtype=int)\n",
    "b = np.random.randint(1, 10, 4, dtype=int)\n",
    "print(f\"Matrix: \\n{a}, \\nVector: {b}\")\n",
    "print(f\"\\nMultiply matrix and vector: \\n{np.dot(a, b)}\")"
   ]
  },
  {
   "cell_type": "code",
   "execution_count": 27,
   "id": "cbf12b25-154e-4283-b609-90609dc63ac7",
   "metadata": {},
   "outputs": [
    {
     "name": "stdout",
     "output_type": "stream",
     "text": [
      "Matrix: \n",
      "[[0.01169193 0.12408384 0.17929572]\n",
      " [0.28395732 0.1401576  0.04710548]], \n",
      "Vector: [0.6685972  0.07651884 0.10176914]\n",
      "\n",
      "Multiply matrix and vector: \n",
      "[0.03555872 0.20537165]\n"
     ]
    }
   ],
   "source": [
    "# 11\n",
    "a = np.random.random((2, 3))\n",
    "b = np.random.random(3)\n",
    "print(f\"Matrix: \\n{a}, \\nVector: {b}\")\n",
    "print(f\"\\nMultiply matrix and vector: \\n{a @ b}\")"
   ]
  },
  {
   "cell_type": "code",
   "execution_count": 25,
   "id": "35587f9b-1c63-46cb-900b-60ba57a9a3c8",
   "metadata": {},
   "outputs": [
    {
     "name": "stdout",
     "output_type": "stream",
     "text": [
      "Matrix a: \n",
      "[[6 7]\n",
      " [4 3]], \n",
      "Matrix b: \n",
      "[[1 4]\n",
      " [7 9]]\n",
      "\n",
      "Elementwise product: \n",
      "[[ 6 28]\n",
      " [28 27]]\n"
     ]
    }
   ],
   "source": [
    "# 12\n",
    "a = np.random.randint(1, 10, (2, 2), dtype=int)\n",
    "b = np.random.randint(1, 10, (2, 2), dtype=int)\n",
    "print(f\"Matrix a: \\n{a}, \\nMatrix b: \\n{b}\")\n",
    "print(f\"\\nElementwise product: \\n{a * b}\")"
   ]
  },
  {
   "cell_type": "code",
   "execution_count": 23,
   "id": "585ad317-5c1f-44c7-9c99-24ac7c112543",
   "metadata": {},
   "outputs": [
    {
     "name": "stdout",
     "output_type": "stream",
     "text": [
      "Matrix m: \n",
      "[[1 1]\n",
      " [5 3]], \n",
      "Matrix n: \n",
      "[[8 6]\n",
      " [8 8]]\n",
      "\n",
      "Multiply matrices: \n",
      "[[16 14]\n",
      " [64 54]]\n"
     ]
    }
   ],
   "source": [
    "# 13\n",
    "m = np.random.randint(1, 10, (2, 2), dtype=int)\n",
    "n = np.random.randint(1, 10, (2, 2), dtype=int)\n",
    "print(f\"Matrix m: \\n{m}, \\nMatrix n: \\n{n}\")\n",
    "print(f\"\\nMultiply matrices: \\n{np.dot(m, n)}\")"
   ]
  },
  {
   "cell_type": "code",
   "execution_count": 36,
   "id": "4c298486-8d01-4c2f-b090-63454d71a6fa",
   "metadata": {},
   "outputs": [
    {
     "name": "stdout",
     "output_type": "stream",
     "text": [
      "Matrix m: \n",
      "[[ 7 41 76  4 28]\n",
      " [79 97 81 28  5]\n",
      " [10 66 18 63  8]\n",
      " [52 93 20  9 70]\n",
      " [15 48 69 90 90]]\n",
      "\n",
      "Sum of elements: \n",
      "1167\n"
     ]
    }
   ],
   "source": [
    "# 14\n",
    "m = np.random.randint(1, 100, (5, 5), dtype=int)\n",
    "\n",
    "print(f\"Matrix m: \\n{m}\")\n",
    "print(f\"\\nSum of elements: \\n{m.sum()}\")"
   ]
  },
  {
   "cell_type": "code",
   "execution_count": 37,
   "id": "9ba134a6-2e48-4bb2-a568-03c8a16a0c32",
   "metadata": {},
   "outputs": [
    {
     "name": "stdout",
     "output_type": "stream",
     "text": [
      "Matrix m: \n",
      "[[6 5 7 9]\n",
      " [1 9 2 4]\n",
      " [6 4 1 3]\n",
      " [6 7 7 1]], \n",
      "Matrix n: \n",
      "[[4 1 9 4]\n",
      " [3 5 5 7]\n",
      " [1 7 3 4]\n",
      " [7 2 9 3]]\n",
      "\n",
      "Matrix difference: \n",
      "[[ 2  4 -2  5]\n",
      " [-2  4 -3 -3]\n",
      " [ 5 -3 -2 -1]\n",
      " [-1  5 -2 -2]]\n"
     ]
    }
   ],
   "source": [
    "# 15\n",
    "m = np.random.randint(1, 10, (4, 4), dtype=int)\n",
    "n = np.random.randint(1, 10, (4, 4), dtype=int)\n",
    "print(f\"Matrix m: \\n{m}, \\nMatrix n: \\n{n}\")\n",
    "print(f\"\\nMatrix difference: \\n{m - n}\")"
   ]
  },
  {
   "cell_type": "code",
   "execution_count": 39,
   "id": "313b1267-b767-4676-a59d-f5fe0cb37e1b",
   "metadata": {},
   "outputs": [
    {
     "name": "stdout",
     "output_type": "stream",
     "text": [
      "Matrix m: \n",
      "[[0.59656826 0.21316929 0.70254474]\n",
      " [0.08499623 0.48683667 0.4895406 ]\n",
      " [0.87168117 0.50089817 0.0680747 ]]\n",
      "Vector: \n",
      "[1.51228229 1.0613735  1.44065403]\n",
      "Same_Vector: \n",
      "[[1.51228229]\n",
      " [1.0613735 ]\n",
      " [1.44065403]]\n"
     ]
    }
   ],
   "source": [
    "# 16\n",
    "m = np.random.random((3, 3))\n",
    "\n",
    "print(f\"Matrix m: \\n{m}\")\n",
    "first = m[0, 0] + m[0, 1] + m[0, 2]\n",
    "second = m[1, 0] + m[1, 1] + m[1, 2]\n",
    "third = m[2, 0] + m[2, 1] + m[2, 2]\n",
    "\n",
    "vector = np.array([first, second, third])\n",
    "same_vector = m.sum(axis=1).reshape(-1, 1)\n",
    "\n",
    "print(f\"Vector: \\n{vector}\")\n",
    "print(f\"Same_Vector: \\n{same_vector}\")"
   ]
  },
  {
   "cell_type": "code",
   "execution_count": 40,
   "id": "c6089f38-536f-40d6-a3f9-2784661c48be",
   "metadata": {},
   "outputs": [
    {
     "name": "stdout",
     "output_type": "stream",
     "text": [
      "Matrix m:\n",
      "[[8 7 3 9]\n",
      " [2 3 6 8]\n",
      " [8 9 3 1]]\n",
      "\n",
      "Squared matrix:\n",
      "[[64 49  9 81]\n",
      " [ 4  9 36 64]\n",
      " [64 81  9  1]]\n"
     ]
    }
   ],
   "source": [
    "# 17\n",
    "m = np.random.randint(1, 10, (3, 4))\n",
    "squared_matrix = m ** 2\n",
    "\n",
    "print(f\"Matrix m:\\n{m}\")\n",
    "print(f\"\\nSquared matrix:\\n{squared_matrix}\")"
   ]
  },
  {
   "cell_type": "code",
   "execution_count": 41,
   "id": "dc60ef77-36e4-4547-a6d8-1edb7410ddcb",
   "metadata": {},
   "outputs": [
    {
     "name": "stdout",
     "output_type": "stream",
     "text": [
      "Vector m:\n",
      "[36  4 11 48]\n",
      "\n",
      "Vector with square roots:\n",
      "[6.         2.         3.31662479 6.92820323]\n"
     ]
    }
   ],
   "source": [
    "# 18\n",
    "m = np.random.randint(1, 50, 4)\n",
    "new_vector = m ** 0.5\n",
    "\n",
    "print(f\"Vector m:\\n{m}\")\n",
    "print(f\"\\nVector with square roots:\\n{new_vector}\")"
   ]
  },
  {
   "cell_type": "code",
   "execution_count": null,
   "id": "57a99175-439c-47aa-8a4f-805eb1548e8a",
   "metadata": {},
   "outputs": [],
   "source": []
  }
 ],
 "metadata": {
  "kernelspec": {
   "display_name": "Python 3 (ipykernel)",
   "language": "python",
   "name": "python3"
  },
  "language_info": {
   "codemirror_mode": {
    "name": "ipython",
    "version": 3
   },
   "file_extension": ".py",
   "mimetype": "text/x-python",
   "name": "python",
   "nbconvert_exporter": "python",
   "pygments_lexer": "ipython3",
   "version": "3.11.5"
  }
 },
 "nbformat": 4,
 "nbformat_minor": 5
}
